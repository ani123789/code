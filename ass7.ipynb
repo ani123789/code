{
  "nbformat": 4,
  "nbformat_minor": 0,
  "metadata": {
    "colab": {
      "provenance": [],
      "authorship_tag": "ABX9TyMlMlhyPwMos78Zq8AwaBx4",
      "include_colab_link": true
    },
    "kernelspec": {
      "name": "python3",
      "display_name": "Python 3"
    },
    "language_info": {
      "name": "python"
    }
  },
  "cells": [
    {
      "cell_type": "markdown",
      "metadata": {
        "id": "view-in-github",
        "colab_type": "text"
      },
      "source": [
        "<a href=\"https://colab.research.google.com/github/ani123789/code/blob/main/ass7.ipynb\" target=\"_parent\"><img src=\"https://colab.research.google.com/assets/colab-badge.svg\" alt=\"Open In Colab\"/></a>"
      ]
    },
    {
      "cell_type": "code",
      "execution_count": 3,
      "metadata": {
        "colab": {
          "base_uri": "https://localhost:8080/",
          "height": 0
        },
        "id": "eOM760R1sx49",
        "outputId": "689c1531-d57c-4c1a-bcee-f6ab5aee633a"
      },
      "outputs": [
        {
          "output_type": "stream",
          "name": "stdout",
          "text": [
            "54.598150033144236\n",
            "0.049787068367863944\n",
            "12.182493960703473\n"
          ]
        }
      ],
      "source": [
        "import math\n",
        "test_int=4\n",
        "test_neg_int=-3\n",
        "test_float=2.5\n",
        "print(math.exp(test_int))\n",
        "print(math.exp(test_neg_int))\n",
        "print(math.exp(test_float))"
      ]
    },
    {
      "cell_type": "code",
      "source": [
        "print(\"the value of log 2 with base 3 is : \", end=\"\")\n",
        "print (math.log(2,3))\n",
        "print(\"the value of log 2 of 16 is: \", end=\"\")\n",
        "print(math.log2(16))\n",
        "print(\"the value of log 10 of 10000 is: \", end=\"\")\n",
        "print(math.log10(10000))\n",
        "print(\"the floor value of 23.56 is: \", end=\"\")\n",
        "print(math.floor(23.56))\n",
        "print(\"the factorial of 6 is: \", end=\"\")\n",
        "print(math.factorial(6))"
      ],
      "metadata": {
        "colab": {
          "base_uri": "https://localhost:8080/",
          "height": 0
        },
        "id": "BfRXzCbHtAqL",
        "outputId": "f0a00b57-7ca7-4683-cae9-ec458a7eaf56"
      },
      "execution_count": 6,
      "outputs": [
        {
          "output_type": "stream",
          "name": "stdout",
          "text": [
            "the value of log 2 with base 3 is : 0.6309297535714574\n",
            "the value of log 2 of 16 is: 4.0\n",
            "the value of log 10 of 10000 is: 4.0\n",
            "the floor value of 23.56 is: 23\n",
            "the factorial of 6 is: 720\n"
          ]
        }
      ]
    },
    {
      "cell_type": "code",
      "source": [
        "import math\n",
        "print(\"the value of pi is: \", end=\"\")\n",
        "print(math.pi)"
      ],
      "metadata": {
        "colab": {
          "base_uri": "https://localhost:8080/",
          "height": 0
        },
        "id": "6gRVOSYswAPq",
        "outputId": "99d086fe-6701-4084-ac1d-7e927280bbdb"
      },
      "execution_count": 7,
      "outputs": [
        {
          "output_type": "stream",
          "name": "stdout",
          "text": [
            "the value of pi is: 3.141592653589793\n"
          ]
        }
      ]
    },
    {
      "cell_type": "code",
      "source": [
        "tm_wday=6\n",
        "tm_yday=15\n",
        "print(math.isclose(tm_wday,tm_yday))"
      ],
      "metadata": {
        "colab": {
          "base_uri": "https://localhost:8080/",
          "height": 0
        },
        "id": "ol7Pmu5yy5oH",
        "outputId": "ecb066d8-0865-47d0-884a-0a1965133af2"
      },
      "execution_count": 11,
      "outputs": [
        {
          "output_type": "stream",
          "name": "stdout",
          "text": [
            "False\n"
          ]
        }
      ]
    },
    {
      "cell_type": "code",
      "source": [
        "#write a program to randomly print any of the below numbers 100,200,300,400,500,600,700,800,900,1000\n",
        "import random\n",
        "numbers=[100,200,300,400,500,600,700,800,900,1000]\n",
        "print(random.choice(numbers))"
      ],
      "metadata": {
        "colab": {
          "base_uri": "https://localhost:8080/",
          "height": 0
        },
        "id": "ntb2Tpxx1C4L",
        "outputId": "ad6029ba-3ee3-45cf-b74f-619f9b5aaf7f"
      },
      "execution_count": 15,
      "outputs": [
        {
          "output_type": "stream",
          "name": "stdout",
          "text": [
            "700\n"
          ]
        }
      ]
    },
    {
      "cell_type": "code",
      "source": [
        "#excute the program 10 times and verify if the number generated in every output is one out of the numbers given in the list above\n",
        "import random\n",
        "number=[100,200,300,400,500,600,700,800,900,1000]\n",
        "for i in range(10):\n",
        "  print(random.choice(number))"
      ],
      "metadata": {
        "colab": {
          "base_uri": "https://localhost:8080/",
          "height": 0
        },
        "id": "xZ14g1Ir1ezx",
        "outputId": "379b2217-a136-4abd-e9fb-9b67e2e706c5"
      },
      "execution_count": 16,
      "outputs": [
        {
          "output_type": "stream",
          "name": "stdout",
          "text": [
            "200\n",
            "800\n",
            "600\n",
            "400\n",
            "100\n",
            "900\n",
            "400\n",
            "400\n",
            "200\n",
            "600\n"
          ]
        }
      ]
    },
    {
      "cell_type": "code",
      "source": [
        "#write a program to print a random odd numbers between 10 to 50\n",
        "import random\n",
        "numbers=range(11,50,2)\n",
        "print(random.choice(numbers))"
      ],
      "metadata": {
        "colab": {
          "base_uri": "https://localhost:8080/",
          "height": 0
        },
        "id": "zCNEhY_02ZK2",
        "outputId": "a1396b5f-cfdb-4dbc-981f-c1f370c5a99c"
      },
      "execution_count": 17,
      "outputs": [
        {
          "output_type": "stream",
          "name": "stdout",
          "text": [
            "11\n"
          ]
        }
      ]
    },
    {
      "cell_type": "code",
      "source": [
        "#write a program to rollong a dice on clicking enter key, the programm will run inifinitely untill until users enter q\n",
        "import random\n",
        "number = range(1,6)\n",
        "while True:\n",
        "  user=input(\"press enter to roll the dice : \")\n",
        "  if(user==\"q\"):\n",
        "    break\n",
        "  else:\n",
        "    print(random.choice(number))"
      ],
      "metadata": {
        "colab": {
          "base_uri": "https://localhost:8080/",
          "height": 0
        },
        "id": "TYWnbvpj2vXr",
        "outputId": "131a81b1-1d2c-438a-db7f-da6f4d91942c"
      },
      "execution_count": 21,
      "outputs": [
        {
          "name": "stdout",
          "output_type": "stream",
          "text": [
            "press enter to roll the dice : \n",
            "1\n",
            "press enter to roll the dice : q\n"
          ]
        }
      ]
    },
    {
      "cell_type": "code",
      "source": [
        "#if area of one wall of a cubical wooden box is 16 units write a program to display the volume of the box\n",
        "a=16\n",
        "vol=a**3\n",
        "print(vol)"
      ],
      "metadata": {
        "colab": {
          "base_uri": "https://localhost:8080/",
          "height": 0
        },
        "id": "Nxr0Qri534iV",
        "outputId": "1e51cfc1-a20d-4ca6-ad65-fe8bc256bec2"
      },
      "execution_count": 22,
      "outputs": [
        {
          "output_type": "stream",
          "name": "stdout",
          "text": [
            "4096\n"
          ]
        }
      ]
    },
    {
      "cell_type": "code",
      "source": [
        "import time\n",
        "print(time.time())\n",
        "print(time.localtime())\n",
        "print(time.localtime(time.time()))\n",
        "print(time.asctime())\n",
        "my_time = (2016,7,27,15,45,23,0,0,0)\n",
        "print(time.localtime(time.mktime(my_time)))"
      ],
      "metadata": {
        "colab": {
          "base_uri": "https://localhost:8080/",
          "height": 0
        },
        "id": "qqh8AMca4PY7",
        "outputId": "89b7af12-bec3-479e-a2f2-07518b7c07d2"
      },
      "execution_count": 24,
      "outputs": [
        {
          "output_type": "stream",
          "name": "stdout",
          "text": [
            "1726809847.0861442\n",
            "time.struct_time(tm_year=2024, tm_mon=9, tm_mday=20, tm_hour=5, tm_min=24, tm_sec=7, tm_wday=4, tm_yday=264, tm_isdst=0)\n",
            "time.struct_time(tm_year=2024, tm_mon=9, tm_mday=20, tm_hour=5, tm_min=24, tm_sec=7, tm_wday=4, tm_yday=264, tm_isdst=0)\n",
            "Fri Sep 20 05:24:07 2024\n",
            "time.struct_time(tm_year=2016, tm_mon=7, tm_mday=27, tm_hour=15, tm_min=45, tm_sec=23, tm_wday=2, tm_yday=209, tm_isdst=0)\n"
          ]
        }
      ]
    },
    {
      "cell_type": "code",
      "source": [
        "#write a function to find the number of days between two dates\n",
        "from datetime import date\n",
        "def day_between(d1,d2):\n",
        "  return abs((d2-d1).days)\n",
        "d1=date(2003,10,3)\n",
        "d2=date(2024,5,15)\n",
        "number_of_days=day_between(d1,d2)\n",
        "print(number_of_days)"
      ],
      "metadata": {
        "colab": {
          "base_uri": "https://localhost:8080/",
          "height": 0
        },
        "id": "UN_E1RjV4752",
        "outputId": "706517ac-476e-4619-9a60-f1d6ec0fd396"
      },
      "execution_count": 33,
      "outputs": [
        {
          "output_type": "stream",
          "name": "stdout",
          "text": [
            "7530\n"
          ]
        }
      ]
    },
    {
      "cell_type": "code",
      "source": [
        "#develop a function to randomly suffle and print a deck of cards\n",
        "import random\n",
        "def suffle_deck():\n",
        "  suits = [\"Hearts\", \"Diamonds\", \"Clubs\", \"Spades\"]\n",
        "  ranks = [\"A\",\"2\", \"3\", \"4\", \"5\", \"6\", \"7\", \"8\", \"9\", \"10\", \"J\", \"Q\", \"K\"]\n",
        "  deck = [(rank,suit) for rank in ranks for suit in suits]\n",
        "  random.shuffle(deck)\n",
        "  return deck\n",
        "print(suffle_deck())"
      ],
      "metadata": {
        "colab": {
          "base_uri": "https://localhost:8080/",
          "height": 0
        },
        "id": "7RK4YQYK6cMj",
        "outputId": "d243d1cc-bb3f-4e70-f030-beda82395b1d"
      },
      "execution_count": 43,
      "outputs": [
        {
          "output_type": "stream",
          "name": "stdout",
          "text": [
            "[('9', 'Spades'), ('J', 'Hearts'), ('Q', 'Hearts'), ('5', 'Hearts'), ('A', 'Hearts'), ('5', 'Diamonds'), ('8', 'Spades'), ('7', 'Spades'), ('3', 'Clubs'), ('Q', 'Spades'), ('K', 'Hearts'), ('9', 'Clubs'), ('6', 'Spades'), ('2', 'Diamonds'), ('8', 'Diamonds'), ('3', 'Diamonds'), ('7', 'Hearts'), ('8', 'Clubs'), ('J', 'Diamonds'), ('8', 'Hearts'), ('A', 'Spades'), ('7', 'Clubs'), ('2', 'Hearts'), ('9', 'Hearts'), ('4', 'Hearts'), ('3', 'Spades'), ('2', 'Clubs'), ('7', 'Diamonds'), ('A', 'Diamonds'), ('J', 'Clubs'), ('10', 'Spades'), ('2', 'Spades'), ('J', 'Spades'), ('5', 'Spades'), ('4', 'Spades'), ('5', 'Clubs'), ('3', 'Hearts'), ('Q', 'Diamonds'), ('9', 'Diamonds'), ('A', 'Clubs'), ('K', 'Clubs'), ('10', 'Hearts'), ('Q', 'Clubs'), ('6', 'Diamonds'), ('K', 'Spades'), ('6', 'Hearts'), ('10', 'Diamonds'), ('4', 'Diamonds'), ('10', 'Clubs'), ('6', 'Clubs'), ('K', 'Diamonds'), ('4', 'Clubs')] \t\n"
          ]
        }
      ]
    },
    {
      "cell_type": "code",
      "source": [
        "#develop a program to print first 10 perfect squares which have a 3 in ten's place\n",
        "def solve():\n",
        "  count = 0\n",
        "  num = 1\n",
        "  while count < 10:\n",
        "    square = num * num\n",
        "    if (square // 10) % 10 == 3:\n",
        "      print(square)\n",
        "      count += 1\n",
        "    num += 1\n",
        "solve()"
      ],
      "metadata": {
        "colab": {
          "base_uri": "https://localhost:8080/"
        },
        "id": "chWbK4P88_s6",
        "outputId": "b5b22fce-2ca3-4e61-f91c-5509ea2240d0"
      },
      "execution_count": 50,
      "outputs": [
        {
          "output_type": "stream",
          "name": "stdout",
          "text": [
            "36\n",
            "1936\n",
            "3136\n",
            "8836\n",
            "11236\n",
            "20736\n",
            "24336\n",
            "37636\n",
            "42436\n",
            "59536\n"
          ]
        }
      ]
    },
    {
      "cell_type": "code",
      "source": [
        "#write a binary search function whcih searches an item in a sorted list. the function should return the index of element to be searched in the list\n",
        "def binary_search(arr, x):\n",
        "  low = 0\n",
        "  high = len(arr) - 1\n",
        "  mid = 0\n",
        "  while low <= high:\n",
        "    mid = (high + low) // 2\n",
        "    if arr[mid] < x:\n",
        "      low = mid + 1\n",
        "    elif arr[mid] > x:\n",
        "      high = mid - 1\n",
        "    else:\n",
        "      return mid\n",
        "  return 0\n",
        "arr= [4,2,334,34,34,343,43,1,6,678,8643,3,78,798,46,32,9]\n",
        "arr.sort()\n",
        "print(arr)\n",
        "x=int(input(\"enter the element to be searched : \"))\n",
        "result=binary_search(arr,x)\n",
        "if result !=0:\n",
        "  print(\"element is present at index\", str(result))\n",
        "else:\n",
        "  print(\"element is not present in array\")"
      ],
      "metadata": {
        "colab": {
          "base_uri": "https://localhost:8080/"
        },
        "id": "jtM3yclp-sQs",
        "outputId": "fb5e63cc-7325-4a45-fc13-dcb31b19e60e"
      },
      "execution_count": 61,
      "outputs": [
        {
          "output_type": "stream",
          "name": "stdout",
          "text": [
            "[1, 2, 3, 4, 6, 9, 32, 34, 34, 43, 46, 78, 334, 343, 678, 798, 8643]\n",
            "enter the element to be searched : 9\n",
            "element is present at index 5\n"
          ]
        }
      ]
    }
  ]
}