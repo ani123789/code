{
  "nbformat": 4,
  "nbformat_minor": 0,
  "metadata": {
    "colab": {
      "provenance": [],
      "authorship_tag": "ABX9TyOSGFx0l9wjfizx2KbfuXpo",
      "include_colab_link": true
    },
    "kernelspec": {
      "name": "python3",
      "display_name": "Python 3"
    },
    "language_info": {
      "name": "python"
    }
  },
  "cells": [
    {
      "cell_type": "markdown",
      "metadata": {
        "id": "view-in-github",
        "colab_type": "text"
      },
      "source": [
        "<a href=\"https://colab.research.google.com/github/ani123789/code/blob/main/ass2.ipynb\" target=\"_parent\"><img src=\"https://colab.research.google.com/assets/colab-badge.svg\" alt=\"Open In Colab\"/></a>"
      ]
    },
    {
      "cell_type": "code",
      "execution_count": null,
      "metadata": {
        "colab": {
          "base_uri": "https://localhost:8080/"
        },
        "id": "glOaXIf9tjj2",
        "outputId": "81cb2f7a-a0c8-4dc7-b653-eba19a49fec4"
      },
      "outputs": [
        {
          "output_type": "stream",
          "name": "stdout",
          "text": [
            "the elements are: [1, 2, 3, 4, 5]\n"
          ]
        }
      ],
      "source": [
        "list = [1,2,3,4,5]\n",
        "print(\"the elements are:\", list)"
      ]
    },
    {
      "cell_type": "code",
      "source": [
        "list1 = [1,2,3,4,5]\n",
        "list2=list1\n",
        "print(\"the elements are:\", list2)"
      ],
      "metadata": {
        "colab": {
          "base_uri": "https://localhost:8080/"
        },
        "id": "CR46ecPHt-Vp",
        "outputId": "ad317456-4509-41b0-ee2a-0e5b0c6d584c"
      },
      "execution_count": null,
      "outputs": [
        {
          "output_type": "stream",
          "name": "stdout",
          "text": [
            "the elements are: [1, 2, 3, 4, 5]\n"
          ]
        }
      ]
    },
    {
      "cell_type": "code",
      "source": [
        "list1=[1,2,3,4,5]\n",
        "list2=[4,5,6,7,8]\n",
        "list3=list1+list2\n",
        "print(\"the elements are:\", list3)"
      ],
      "metadata": {
        "colab": {
          "base_uri": "https://localhost:8080/"
        },
        "id": "ylIq2FTQuYf2",
        "outputId": "20f0e604-3a76-4d74-8efa-58e23de18007"
      },
      "execution_count": null,
      "outputs": [
        {
          "output_type": "stream",
          "name": "stdout",
          "text": [
            "the elements are: [1, 2, 3, 4, 5, 4, 5, 6, 7, 8]\n"
          ]
        }
      ]
    },
    {
      "cell_type": "code",
      "source": [
        "cname=\"india, usa, srilanka, pakistan\"\n",
        "print(cname)"
      ],
      "metadata": {
        "colab": {
          "base_uri": "https://localhost:8080/"
        },
        "id": "Z_LaK6XLuk6H",
        "outputId": "6e2777d1-ef71-4dee-c1a8-cbf55a966dbe"
      },
      "execution_count": null,
      "outputs": [
        {
          "output_type": "stream",
          "name": "stdout",
          "text": [
            "india, usa, srilanka, pakistan\n"
          ]
        }
      ]
    },
    {
      "cell_type": "code",
      "source": [
        "tupple=1,2,4,5,\"animesh\", \"sam\"\n",
        "ele= \"sam\"\n",
        "if ele in tupple:\n",
        "  print(\"element\", ele, \" is available in :\", tupple)\n",
        "else :\n",
        "  print(\"element is not availabel in :\", tupple)"
      ],
      "metadata": {
        "colab": {
          "base_uri": "https://localhost:8080/"
        },
        "id": "qgFPfg_iv9BN",
        "outputId": "e5a8308a-2601-40ac-d348-12591b68d61e"
      },
      "execution_count": null,
      "outputs": [
        {
          "output_type": "stream",
          "name": "stdout",
          "text": [
            "element is not availabel in : (1, 2, 4, 5, 'animesh', 'sam')\n"
          ]
        }
      ]
    },
    {
      "cell_type": "code",
      "source": [
        "dict= {1:\"ani\", 2:\"sam\", 3:\"animesh\"}\n",
        "print(dict)\n"
      ],
      "metadata": {
        "colab": {
          "base_uri": "https://localhost:8080/"
        },
        "id": "LMDqNxmwxQHx",
        "outputId": "07d2ff9d-34ca-49e5-a460-ef75ecf3c4d7"
      },
      "execution_count": null,
      "outputs": [
        {
          "output_type": "stream",
          "name": "stdout",
          "text": [
            "{1: 'ani', 2: 'sam', 3: 'animesh'}\n"
          ]
        }
      ]
    },
    {
      "cell_type": "code",
      "source": [
        "dict = {}\n",
        "no_ele=int(input(\"enter the number of elements:\"))\n",
        "for i in range(no_ele):\n",
        "  key=input(\"enter the value of key:\")\n",
        "  value=input(\"ente the value of value:\")\n",
        "  dict[key]=value\n",
        "print(dict)"
      ],
      "metadata": {
        "colab": {
          "base_uri": "https://localhost:8080/"
        },
        "id": "ZLRTQvbFzOMb",
        "outputId": "4d02f22f-7968-429b-eb2b-65917abc1691"
      },
      "execution_count": null,
      "outputs": [
        {
          "output_type": "stream",
          "name": "stdout",
          "text": [
            "enter the number of elements:2\n",
            "enter the value of key:1\n",
            "ente the value of value:ani\n",
            "enter the value of key:2\n",
            "ente the value of value:sam\n",
            "{'1': 'ani', '2': 'sam'}\n"
          ]
        }
      ]
    },
    {
      "cell_type": "code",
      "source": [
        "str=input(\"enter the string:\")\n",
        "print(\"the string is:\",str)"
      ],
      "metadata": {
        "colab": {
          "base_uri": "https://localhost:8080/"
        },
        "id": "6lyXPDYJz9HP",
        "outputId": "13aba15f-eb48-4392-82a6-19450aa31ad4"
      },
      "execution_count": null,
      "outputs": [
        {
          "output_type": "stream",
          "name": "stdout",
          "text": [
            "enter the string:a,j,k,l,l,n\n",
            "the string is: a,j,k,l,l,n\n"
          ]
        }
      ]
    },
    {
      "cell_type": "code",
      "source": [
        "str=input(\"enter the string:\")\n",
        "print(\"the string is:\",str)\n",
        "substr=in"
      ],
      "metadata": {
        "id": "For9N9Pz1QqF"
      },
      "execution_count": null,
      "outputs": []
    }
  ]
}