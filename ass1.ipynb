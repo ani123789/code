{
  "nbformat": 4,
  "nbformat_minor": 0,
  "metadata": {
    "colab": {
      "provenance": [],
      "authorship_tag": "ABX9TyMd8tw4jC4i8FDUmJ7N/SaJ",
      "include_colab_link": true
    },
    "kernelspec": {
      "name": "python3",
      "display_name": "Python 3"
    },
    "language_info": {
      "name": "python"
    }
  },
  "cells": [
    {
      "cell_type": "markdown",
      "metadata": {
        "id": "view-in-github",
        "colab_type": "text"
      },
      "source": [
        "<a href=\"https://colab.research.google.com/github/ani123789/code/blob/main/ass1.ipynb\" target=\"_parent\"><img src=\"https://colab.research.google.com/assets/colab-badge.svg\" alt=\"Open In Colab\"/></a>"
      ]
    },
    {
      "cell_type": "code",
      "source": [
        "print('helloworld')"
      ],
      "metadata": {
        "colab": {
          "base_uri": "https://localhost:8080/"
        },
        "id": "_-cQbZvIir13",
        "outputId": "cdcde7f6-f34a-447a-8adc-2eca938f95f9"
      },
      "execution_count": null,
      "outputs": [
        {
          "output_type": "stream",
          "name": "stdout",
          "text": [
            "helloworld\n"
          ]
        }
      ]
    },
    {
      "cell_type": "code",
      "source": [
        "Name,age,branch,collegename,address = \"Animesh Sahoo\", 21, \"cse\", \"silicon\",\"BBSR\"\n",
        "print(\"my name is:\", Name)\n",
        "print(\"my age is:\", age)\n",
        "print(\"my branch is:\", branch)\n",
        "print(\"my collegename is:\",collegename)\n",
        "print(\"my address is;\",address)"
      ],
      "metadata": {
        "colab": {
          "base_uri": "https://localhost:8080/"
        },
        "id": "sBr3CXr7i5YY",
        "outputId": "252f1d52-9702-4077-e152-260ea3377d6d"
      },
      "execution_count": null,
      "outputs": [
        {
          "output_type": "stream",
          "name": "stdout",
          "text": [
            "my name is: Animesh Sahoo\n",
            "my age is: 21\n",
            "my branch is: cse\n",
            "my collegename is: silicon\n",
            "my address is; BBSR\n"
          ]
        }
      ]
    },
    {
      "cell_type": "code",
      "source": [
        "a= 10\n",
        "b=5\n",
        "print(\"addition of two number is :\", a+b)\n",
        "print(\"multipication of two number is :\", a*b)\n",
        "print(\"division of two number is:\",a/b)\n",
        "print(\"substraction of two number is :\", a-b)"
      ],
      "metadata": {
        "colab": {
          "base_uri": "https://localhost:8080/"
        },
        "id": "uI8sg-xPlqjm",
        "outputId": "c0f631f9-d17d-42ad-8642-97a99dc2f0e4"
      },
      "execution_count": null,
      "outputs": [
        {
          "output_type": "stream",
          "name": "stdout",
          "text": [
            "addition of two number is : 15\n",
            "multipication of two number is : 50\n",
            "division of two number is: 2.0\n",
            "substraction of two number is : 5\n"
          ]
        }
      ]
    },
    {
      "cell_type": "code",
      "source": [
        "f=100\n",
        "c=(5/9)*(f-32)\n",
        "print(\"convertion of fahrenhite to centrigrade is:\", c)"
      ],
      "metadata": {
        "colab": {
          "base_uri": "https://localhost:8080/"
        },
        "id": "_OFgfKcRlqeA",
        "outputId": "8b57b7af-fc53-49f9-bdbf-1a123dec9e27"
      },
      "execution_count": null,
      "outputs": [
        {
          "output_type": "stream",
          "name": "stdout",
          "text": [
            "convertion of fahrenhite to centrigrade is: 37.77777777777778\n"
          ]
        }
      ]
    },
    {
      "cell_type": "code",
      "source": [
        "import math\n",
        "r=10\n",
        "a=5\n",
        "b=10\n",
        "c=15\n",
        "a1=3.14*r*r\n",
        "s=(a+b+c)/2\n",
        "a2= math.sqrt(s*(s-a)*(s-b)*(s-c))\n",
        "p1=2*3.14*r\n",
        "p2=a+b+c\n",
        "print(\"area of circle is:\", a1)\n",
        "print(\"area of triangle is:\", a2)\n",
        "print(\"perimeter of circle is\", p1)\n",
        "print(\"perimeter of triangle is\",p2)"
      ],
      "metadata": {
        "colab": {
          "base_uri": "https://localhost:8080/"
        },
        "id": "-pPxBzJnmjGU",
        "outputId": "16f10c6a-54e1-4be9-8639-ef9207bd23c6"
      },
      "execution_count": 2,
      "outputs": [
        {
          "output_type": "stream",
          "name": "stdout",
          "text": [
            "area of circle is: 314.0\n",
            "area of triangle is: 0.0\n",
            "perimeter of circle is 62.800000000000004\n",
            "perimeter of triangle is 30\n"
          ]
        }
      ]
    },
    {
      "cell_type": "code",
      "source": [
        "a=5\n",
        "b=10\n",
        "c=a\n",
        "a=b\n",
        "b=c\n",
        "print(\"value of a after swapping:\", a)\n",
        "print(\"value of b after swapping:\", b)\n",
        "\n",
        "x=20\n",
        "y=30\n",
        "x,y=y,x\n",
        "print(\"value of x after swapping:\", x)\n",
        "print(\"value of y after swapping:\", y)\n"
      ],
      "metadata": {
        "colab": {
          "base_uri": "https://localhost:8080/"
        },
        "id": "aLVepzenpGxM",
        "outputId": "46816d40-19c9-4c0d-804a-87b62fd08572"
      },
      "execution_count": null,
      "outputs": [
        {
          "output_type": "stream",
          "name": "stdout",
          "text": [
            "value of a after swapping: 10\n",
            "value of b after swapping: 5\n",
            "value of x after swapping: 30\n",
            "value of y after swapping: 20\n"
          ]
        }
      ]
    },
    {
      "cell_type": "markdown",
      "source": [],
      "metadata": {
        "id": "oxTtBJA3tHzJ"
      }
    },
    {
      "cell_type": "code",
      "source": [
        "p=10\n",
        "r=5\n",
        "t=2\n",
        "si=(p*r*t)/100\n",
        "print(\"simple interest is:\", si)\n",
        "ci=p*((1+r)**t)-p\n",
        "print(\"pricipal intrest is :\", ci)"
      ],
      "metadata": {
        "colab": {
          "base_uri": "https://localhost:8080/"
        },
        "id": "4h592xWcpmDL",
        "outputId": "68cb049a-6cc3-48b2-8316-aaef0563e203"
      },
      "execution_count": null,
      "outputs": [
        {
          "output_type": "stream",
          "name": "stdout",
          "text": [
            "simple interest is: 1.0\n",
            "pricipal intrest is : 350\n"
          ]
        }
      ]
    },
    {
      "cell_type": "code",
      "source": [
        "days=456\n",
        "month = days/30\n",
        "print(\"month is:\", month)\n",
        "year = days/365\n",
        "print(\"year is:\", year)"
      ],
      "metadata": {
        "colab": {
          "base_uri": "https://localhost:8080/"
        },
        "id": "qEA5TncLqdBm",
        "outputId": "5e1178c0-7d48-4c90-e845-758b7218e3ca"
      },
      "execution_count": null,
      "outputs": [
        {
          "output_type": "stream",
          "name": "stdout",
          "text": [
            "month is: 15.2\n",
            "year is: 1.2493150684931507\n"
          ]
        }
      ]
    },
    {
      "cell_type": "code",
      "source": [
        "bs=2000\n",
        "ta=1000\n",
        "da=300\n",
        "hra=5000\n",
        "gs=bs+ta+da+hra\n",
        "print(\"gross salary is:\", gs)"
      ],
      "metadata": {
        "colab": {
          "base_uri": "https://localhost:8080/"
        },
        "id": "4k1g-xcJqt4U",
        "outputId": "f0bf72a2-3472-4b27-cd95-61cd1482747e"
      },
      "execution_count": null,
      "outputs": [
        {
          "output_type": "stream",
          "name": "stdout",
          "text": [
            "gross salary is: 8300\n"
          ]
        }
      ]
    },
    {
      "cell_type": "code",
      "source": [
        "ruppes=10500\n",
        "paisa=ruppes*100\n",
        "print(\"paisa is:\", paisa)"
      ],
      "metadata": {
        "colab": {
          "base_uri": "https://localhost:8080/"
        },
        "id": "uVQ4wJu6rFeD",
        "outputId": "99ada969-d11f-4562-d24b-c6caaf92b34f"
      },
      "execution_count": null,
      "outputs": [
        {
          "output_type": "stream",
          "name": "stdout",
          "text": [
            "paisa is: 1050000\n"
          ]
        }
      ]
    }
  ]
}